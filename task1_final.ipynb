{
 "cells": [
  {
   "cell_type": "code",
   "execution_count": 109,
   "id": "3960b618",
   "metadata": {},
   "outputs": [],
   "source": [
    "# Importing necessary packages\n",
    "import pandas as pd\n",
    "import mysql.connector\n",
    "import warnings\n",
    "warnings.filterwarnings('ignore')"
   ]
  },
  {
   "cell_type": "code",
   "execution_count": 110,
   "id": "5fa78dbb",
   "metadata": {},
   "outputs": [],
   "source": [
    "# Function for mysql connector\n",
    "def mysql_connector():\n",
    "    try:\n",
    "        # Connecting to mysql database using mysql connector\n",
    "        mydb = mysql.connector.connect(host='localhost',user=\"root\",password=\"0007\")\n",
    "        # Creating a cursor for running sql queries\n",
    "        cursor = mydb.cursor()\n",
    "\n",
    "    except Exception as e:\n",
    "        logger(e)\n",
    "        print(e)\n",
    "mysql_connector()"
   ]
  },
  {
   "cell_type": "code",
   "execution_count": 111,
   "id": "015006b9",
   "metadata": {},
   "outputs": [],
   "source": [
    "# Creating a function to log all the errors in the process\n",
    "import logging as lg\n",
    "def logger(log):\n",
    "    lg.basicConfig(filename='task2.log',level=lg.ERROR,format=\"%(asctime)s %(name)s %(levelname)s %(message)s\")\n",
    "    lg.error(log)"
   ]
  },
  {
   "cell_type": "markdown",
   "id": "c7825018",
   "metadata": {},
   "source": [
    "### Loading data to a dataframe"
   ]
  },
  {
   "cell_type": "code",
   "execution_count": 119,
   "id": "9358b31b",
   "metadata": {},
   "outputs": [],
   "source": [
    "def data_import_clean():\n",
    "    data = pd.read_xml(r\"C:\\Users\\mdnis\\Desktop\\data.xml\")\n",
    "    data['table_field'] = data['table'] +\" \"+ data['field']\n",
    "    data.drop('access',axis=1,inplace=True)\n",
    "data_import_clean()"
   ]
  },
  {
   "cell_type": "code",
   "execution_count": 123,
   "id": "a33be26d",
   "metadata": {},
   "outputs": [],
   "source": [
    "try:\n",
    "    data_import_clean()\n",
    "except Exception as e:\n",
    "    print(e)\n",
    "    logger(e)"
   ]
  },
  {
   "cell_type": "markdown",
   "id": "d26a75f0",
   "metadata": {},
   "source": [
    "### Creating the tables from xml"
   ]
  },
  {
   "cell_type": "code",
   "execution_count": 126,
   "id": "c81c9986",
   "metadata": {},
   "outputs": [],
   "source": [
    "# Function to create tables with corrsponding fieldnames in the xml file\n",
    "def table_creator():    \n",
    "    tables = data.table.unique().tolist()\n",
    "    cursor.execute(\"CREATE DATABASE xml_task_db;\")\n",
    "    cursor.execute(\"USE xml_task_db\")\n",
    "    for i in tables:\n",
    "        collst = []\n",
    "        for j in data.table_field:\n",
    "            if j.split(\" \")[0] == i:\n",
    "                if j.split(\" \")[1] == 'PROCEDURE':\n",
    "                    j.split(\" \")[1] = 'PROCEDURE1'\n",
    "                else:\n",
    "                    collst.append(j.split(\" \")[1])\n",
    "        qry1 = f\"CREATE TABLE {i} (\"\n",
    "        qry2 = \" VARCHAR(50),\".join(collst) + \" VARCHAR(50));\"\n",
    "        final_qry = qry1 + qry2\n",
    "        cursor.execute(final_qry)\n",
    "    print(\"Tables Created Successfuly\")"
   ]
  },
  {
   "cell_type": "code",
   "execution_count": 127,
   "id": "5f0f89c7",
   "metadata": {},
   "outputs": [
    {
     "name": "stdout",
     "output_type": "stream",
     "text": [
      "1007 (HY000): Can't create database 'xml_task_db'; database exists\n"
     ]
    }
   ],
   "source": [
    "try:\n",
    "    table_creator()\n",
    "except Exception as e:\n",
    "    print(e)\n",
    "    logger(e)"
   ]
  },
  {
   "cell_type": "markdown",
   "id": "e12ed9dd",
   "metadata": {},
   "source": [
    "### Showing data of each tables which is created"
   ]
  },
  {
   "cell_type": "code",
   "execution_count": 155,
   "id": "a5f1a861",
   "metadata": {},
   "outputs": [],
   "source": [
    "# Function to view the data of all the tables created\n",
    "def data_viewer():    \n",
    "    tables = data.table.unique().tolist()\n",
    "    for i in tables:\n",
    "        cursor.execute(\"USE xml_task_db\")\n",
    "        qry = f\"SELECT * FROM {i};\"\n",
    "        cursor.execute(qry)\n",
    "        print(f\"Table data of table '{i}' is viewed successfuly\")"
   ]
  },
  {
   "cell_type": "code",
   "execution_count": 157,
   "id": "8c1cd3b3",
   "metadata": {},
   "outputs": [
    {
     "name": "stdout",
     "output_type": "stream",
     "text": [
      "Table data of table 'Terms' is viewed successfuly\n",
      "Table data of table 'Prefs' is viewed successfuly\n",
      "Table data of table 'FTE' is viewed successfuly\n",
      "Table data of table 'Students' is viewed successfuly\n",
      "Table data of table 'ReEnrollments' is viewed successfuly\n",
      "Table data of table 'HealthScreenLookup' is viewed successfuly\n",
      "Table data of table 'HealthGradeLevel' is viewed successfuly\n",
      "Table data of table 'HealthStudGradeLevel' is viewed successfuly\n",
      "Table data of table 'HealthStudIMMRec' is viewed successfuly\n",
      "Table data of table 'HealthVaccine' is viewed successfuly\n",
      "Table data of table 'HealthStudDoseRec' is viewed successfuly\n",
      "Table data of table 'HealthImmExempt' is viewed successfuly\n",
      "Table data of table 'HealthImmSource' is viewed successfuly\n",
      "Table data of table 'Codeset' is viewed successfuly\n",
      "Table data of table 'HealthMainStudRec' is viewed successfuly\n",
      "Table data of table 'HealthOfficeVisit' is viewed successfuly\n",
      "Table data of table 'HealthStudHearing' is viewed successfuly\n",
      "Table data of table 'HealthScreenWaiver' is viewed successfuly\n",
      "Table data of table 'HealthStudOral' is viewed successfuly\n",
      "Table data of table 'HealthStudScolio' is viewed successfuly\n",
      "Table data of table 'HealthStudTB' is viewed successfuly\n",
      "Table data of table 'HealthStudVision' is viewed successfuly\n",
      "Table data of table 'HealthVitalSigns' is viewed successfuly\n",
      "Table data of table 'HealthScreenChngDetail' is viewed successfuly\n",
      "Table data of table 'HealthStudChngDetail' is viewed successfuly\n",
      "Table data of table 'HealthStudChngRsn' is viewed successfuly\n",
      "Table data of table 'DM_SchoolEnrollment' is viewed successfuly\n",
      "Table data of table 'Schools' is viewed successfuly\n",
      "Table data of table 'PhoneNumber' is viewed successfuly\n",
      "Table data of table 'StudentCoreFields' is viewed successfuly\n",
      "Table data of table 'PersonPhoneNumberAssoc' is viewed successfuly\n",
      "Table data of table 'OriginalContactMap' is viewed successfuly\n",
      "Table data of table 'StudentContactAssoc' is viewed successfuly\n",
      "Table data of table 'StudentContactDetail' is viewed successfuly\n"
     ]
    }
   ],
   "source": [
    "try:\n",
    "    data_viewer()\n",
    "except Exception as e:\n",
    "    print(e)\n",
    "    logger(e)"
   ]
  },
  {
   "cell_type": "code",
   "execution_count": null,
   "id": "4fe17902",
   "metadata": {},
   "outputs": [],
   "source": []
  }
 ],
 "metadata": {
  "kernelspec": {
   "display_name": "Python 3 (ipykernel)",
   "language": "python",
   "name": "python3"
  },
  "language_info": {
   "codemirror_mode": {
    "name": "ipython",
    "version": 3
   },
   "file_extension": ".py",
   "mimetype": "text/x-python",
   "name": "python",
   "nbconvert_exporter": "python",
   "pygments_lexer": "ipython3",
   "version": "3.9.7"
  }
 },
 "nbformat": 4,
 "nbformat_minor": 5
}
